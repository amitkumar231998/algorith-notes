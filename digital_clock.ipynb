{
 "cells": [
  {
   "cell_type": "markdown",
   "metadata": {},
   "source": [
    "#  Digital clock and date time"
   ]
  },
  {
   "cell_type": "markdown",
   "metadata": {},
   "source": [
    "importing libraries in python"
   ]
  },
  {
   "cell_type": "markdown",
   "metadata": {},
   "source": [
    "# methods 1"
   ]
  },
  {
   "cell_type": "code",
   "execution_count": 1,
   "metadata": {},
   "outputs": [],
   "source": [
    "import datetime "
   ]
  },
  {
   "cell_type": "markdown",
   "metadata": {},
   "source": [
    "importing date and time synchronization with my current timing "
   ]
  },
  {
   "cell_type": "code",
   "execution_count": 2,
   "metadata": {},
   "outputs": [
    {
     "data": {
      "text/plain": [
       "'02-02-2021 20:39:21/PM'"
      ]
     },
     "execution_count": 2,
     "metadata": {},
     "output_type": "execute_result"
    }
   ],
   "source": [
    "date_time = datetime.datetime.now().strftime(\"%d-%m-%Y %H:%M:%S/%p\")\n",
    "date_time"
   ]
  },
  {
   "cell_type": "markdown",
   "metadata": {},
   "source": [
    "#  methods 2"
   ]
  },
  {
   "cell_type": "markdown",
   "metadata": {},
   "source": [
    "digital clock using tkinter libaries."
   ]
  },
  {
   "cell_type": "markdown",
   "metadata": {},
   "source": [
    "Tkinter is the standard GUI library for Python. Python when combined with Tkinter provides a fast and easy way to create GUI applications. Tkinter provides a powerful object-oriented interface to the Tk GUI toolkit.\n"
   ]
  },
  {
   "cell_type": "markdown",
   "metadata": {},
   "source": [
    "Creating a GUI application using Tkinter is an easy task. All you need to do is perform the following steps −\n",
    "(a)Import the Tkinter module.\n",
    "(b)Create the GUI application main window.\n",
    "(c)Add one or more of the above-mentioned widgets to the GUI application.\n",
    "(d)Enter the main event loop to take action against each event triggered by the user."
   ]
  },
  {
   "cell_type": "code",
   "execution_count": 3,
   "metadata": {},
   "outputs": [],
   "source": [
    "from tkinter import * \n",
    "from tkinter.ttk import *\n",
    "from time import strftime "
   ]
  },
  {
   "cell_type": "code",
   "execution_count": 4,
   "metadata": {},
   "outputs": [],
   "source": [
    "root = Tk()   "
   ]
  },
  {
   "cell_type": "markdown",
   "metadata": {},
   "source": [
    "we need to define the function for synchonized with current time and date"
   ]
  },
  {
   "cell_type": "code",
   "execution_count": 5,
   "metadata": {},
   "outputs": [],
   "source": [
    "def time(): \n",
    "    string = strftime('%H:%M:%S %p') \n",
    "    lbl.config(text = string) \n",
    "    lbl.after(1000, time)\n",
    "    "
   ]
  },
  {
   "cell_type": "code",
   "execution_count": 6,
   "metadata": {},
   "outputs": [],
   "source": [
    "lbl = Label(root, font = ('calibri', 40, 'bold'), \n",
    "            background = 'purple', \n",
    "            foreground = 'white') "
   ]
  },
  {
   "cell_type": "code",
   "execution_count": 7,
   "metadata": {},
   "outputs": [],
   "source": [
    "lbl.pack(anchor = 'center') \n",
    "time() \n",
    "  \n",
    "mainloop() "
   ]
  },
  {
   "cell_type": "markdown",
   "metadata": {},
   "source": [
    "notes:- its create external windows"
   ]
  },
  {
   "cell_type": "markdown",
   "metadata": {},
   "source": [
    "# methods 3"
   ]
  },
  {
   "cell_type": "markdown",
   "metadata": {},
   "source": [
    "digital clock without using tkinter libaries "
   ]
  },
  {
   "cell_type": "code",
   "execution_count": 8,
   "metadata": {},
   "outputs": [],
   "source": [
    "import time"
   ]
  },
  {
   "cell_type": "code",
   "execution_count": null,
   "metadata": {},
   "outputs": [
    {
     "name": "stdout",
     "output_type": "stream",
     "text": [
      "2/2/2021 20:47:43\n",
      "2/2/2021 20:47:44\n",
      "2/2/2021 20:47:45\n",
      "2/2/2021 20:47:46\n",
      "2/2/2021 20:47:47\n",
      "2/2/2021 20:47:48\n",
      "2/2/2021 20:47:49\n",
      "2/2/2021 20:47:50\n",
      "2/2/2021 20:47:51\n",
      "2/2/2021 20:47:52\n"
     ]
    }
   ],
   "source": [
    "while True:\n",
    "    from datetime import datetime\n",
    "    now = datetime.now()\n",
    "    print (\"%s/%s/%s %s:%s:%s\" % (now.month,now.day,now.year,now.hour,now.minute,now.second))\n",
    "    time.sleep(1)"
   ]
  },
  {
   "cell_type": "code",
   "execution_count": null,
   "metadata": {},
   "outputs": [],
   "source": []
  },
  {
   "cell_type": "code",
   "execution_count": null,
   "metadata": {},
   "outputs": [],
   "source": []
  }
 ],
 "metadata": {
  "kernelspec": {
   "display_name": "Python 3",
   "language": "python",
   "name": "python3"
  },
  "language_info": {
   "codemirror_mode": {
    "name": "ipython",
    "version": 3
   },
   "file_extension": ".py",
   "mimetype": "text/x-python",
   "name": "python",
   "nbconvert_exporter": "python",
   "pygments_lexer": "ipython3",
   "version": "3.8.5"
  }
 },
 "nbformat": 4,
 "nbformat_minor": 4
}
